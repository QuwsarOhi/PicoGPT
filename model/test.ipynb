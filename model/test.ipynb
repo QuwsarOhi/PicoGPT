{
 "cells": [
  {
   "cell_type": "code",
   "execution_count": 7,
   "metadata": {},
   "outputs": [
    {
     "name": "stderr",
     "output_type": "stream",
     "text": [
      "/home/ohi/miniconda3/lib/python3.11/site-packages/datasets/load.py:1429: FutureWarning: The repository for wikipedia contains custom code which must be executed to correctly load the dataset. You can inspect the repository content at https://hf.co/datasets/wikipedia\n",
      "You can avoid this message in future by passing the argument `trust_remote_code=True`.\n",
      "Passing `trust_remote_code=True` will be mandatory to load this dataset from the next major release of `datasets`.\n",
      "  warnings.warn(\n"
     ]
    }
   ],
   "source": [
    "import string\n",
    "from collections import Counter, defaultdict\n",
    "from tokenizer import Tokenizer\n",
    "from datasets import load_dataset\n",
    "from tqdm.notebook import tqdm\n",
    "\n",
    "tokenizer = Tokenizer()\n",
    "cnt = Counter()\n",
    "wiki_data = load_dataset(\"wikipedia\", \"20220301.en\")"
   ]
  },
  {
   "cell_type": "code",
   "execution_count": 8,
   "metadata": {},
   "outputs": [
    {
     "data": {
      "application/vnd.jupyter.widget-view+json": {
       "model_id": "9d54d5580a5949b589fb1ed6318acb16",
       "version_major": 2,
       "version_minor": 0
      },
      "text/plain": [
       "  0%|          | 0/6458670 [00:00<?, ?it/s]"
      ]
     },
     "metadata": {},
     "output_type": "display_data"
    },
    {
     "ename": "KeyboardInterrupt",
     "evalue": "",
     "output_type": "error",
     "traceback": [
      "\u001b[0;31m---------------------------------------------------------------------------\u001b[0m",
      "\u001b[0;31mKeyboardInterrupt\u001b[0m                         Traceback (most recent call last)",
      "\u001b[1;32m/home/ohi/Downloads/TinyLM/model/test.ipynb Cell 2\u001b[0m line \u001b[0;36m2\n\u001b[1;32m      <a href='vscode-notebook-cell://192.168.1.70:8080/home/ohi/Downloads/TinyLM/model/test.ipynb#W1sdnNjb2RlLXJlbW90ZQ%3D%3D?line=0'>1</a>\u001b[0m \u001b[39mfor\u001b[39;00m x \u001b[39min\u001b[39;00m tqdm(wiki_data[\u001b[39m'\u001b[39m\u001b[39mtrain\u001b[39m\u001b[39m'\u001b[39m]):\n\u001b[0;32m----> <a href='vscode-notebook-cell://192.168.1.70:8080/home/ohi/Downloads/TinyLM/model/test.ipynb#W1sdnNjb2RlLXJlbW90ZQ%3D%3D?line=1'>2</a>\u001b[0m     tcnt \u001b[39m=\u001b[39m Counter(tokenizer\u001b[39m.\u001b[39;49mencode(x[\u001b[39m'\u001b[39;49m\u001b[39mtext\u001b[39;49m\u001b[39m'\u001b[39;49m]))\n\u001b[1;32m      <a href='vscode-notebook-cell://192.168.1.70:8080/home/ohi/Downloads/TinyLM/model/test.ipynb#W1sdnNjb2RlLXJlbW90ZQ%3D%3D?line=2'>3</a>\u001b[0m     cnt \u001b[39m+\u001b[39m\u001b[39m=\u001b[39m tcnt\n",
      "File \u001b[0;32m~/Downloads/TinyLM/model/tokenizer.py:43\u001b[0m, in \u001b[0;36mencode\u001b[0;34m(self, x)\u001b[0m\n\u001b[1;32m     41\u001b[0m     \u001b[39mself\u001b[39m\u001b[39m.\u001b[39mdec[i \u001b[39m+\u001b[39m n] \u001b[39m=\u001b[39m c\n\u001b[1;32m     42\u001b[0m \u001b[39m# vocab size is 101\u001b[39;00m\n\u001b[0;32m---> 43\u001b[0m \u001b[39mself\u001b[39m\u001b[39m.\u001b[39mvocab_size \u001b[39m=\u001b[39m \u001b[39mlen\u001b[39m(\u001b[39mself\u001b[39m\u001b[39m.\u001b[39menc)\n",
      "File \u001b[0;32m~/Downloads/TinyLM/model/tokenizer.py:43\u001b[0m, in \u001b[0;36m<listcomp>\u001b[0;34m(.0)\u001b[0m\n\u001b[1;32m     41\u001b[0m     \u001b[39mself\u001b[39m\u001b[39m.\u001b[39mdec[i \u001b[39m+\u001b[39m n] \u001b[39m=\u001b[39m c\n\u001b[1;32m     42\u001b[0m \u001b[39m# vocab size is 101\u001b[39;00m\n\u001b[0;32m---> 43\u001b[0m \u001b[39mself\u001b[39m\u001b[39m.\u001b[39mvocab_size \u001b[39m=\u001b[39m \u001b[39mlen\u001b[39m(\u001b[39mself\u001b[39m\u001b[39m.\u001b[39menc)\n",
      "\u001b[0;31mKeyboardInterrupt\u001b[0m: "
     ]
    }
   ],
   "source": [
    "for x in tqdm(wiki_data['train']):\n",
    "    tcnt = Counter(tokenizer.encode(x['text']))\n",
    "    cnt += tcnt"
   ]
  },
  {
   "cell_type": "code",
   "execution_count": 16,
   "metadata": {},
   "outputs": [
    {
     "name": "stdout",
     "output_type": "stream",
     "text": [
      "11503055\n"
     ]
    }
   ],
   "source": [
    "print(cnt[0])"
   ]
  },
  {
   "cell_type": "code",
   "execution_count": 12,
   "metadata": {},
   "outputs": [
    {
     "name": "stdout",
     "output_type": "stream",
     "text": [
      "5241901612\n"
     ]
    }
   ],
   "source": [
    "total = sum(cnt.values())\n",
    "print(total)"
   ]
  },
  {
   "cell_type": "code",
   "execution_count": 17,
   "metadata": {},
   "outputs": [],
   "source": [
    "from collections import OrderedDict\n",
    "norm_curated = OrderedDict()\n",
    "for i in range(128):\n",
    "    norm_curated[i] = cnt[i]/total"
   ]
  },
  {
   "cell_type": "code",
   "execution_count": 18,
   "metadata": {},
   "outputs": [
    {
     "name": "stdout",
     "output_type": "stream",
     "text": [
      "OrderedDict([(0, 0.0021944431337029835), (1, 0.0036955380764212634), (2, 0.0048762004501354235), (3, 0.002834218400053404), (4, 0.0012969989716014533), (5, 0.0012635347799809106), (6, 0.0013395695912958696), (7, 0.0012605957702206488), (8, 0.0012377223916502614), (9, 0.001596646144757896), (10, 0.0030226404791208433), (11, 0.06499484962099666), (12, 0.010128587091077206), (13, 0.02375718359820295), (14, 0.028404963316965057), (15, 0.0909184472117864), (16, 0.015711589628363287), (17, 0.014117335745217341), (18, 0.033140864872837295), (19, 0.05724593195588578), (20, 0.0007396863365622437), (21, 0.004664665957106865), (22, 0.032066609685157135), (23, 0.01811180484247517), (24, 0.05678948748647364), (25, 0.05560818030859294), (26, 0.014307692427554858), (27, 0.0006674123741641872), (28, 0.05106579077852406), (29, 0.04789840168407953), (30, 0.06161381897375452), (31, 0.019909919476756483), (32, 0.007524123289477719), (33, 0.0109161699771331), (34, 0.0015701280964828608), (35, 0.011769622661128269), (36, 0.0010124463205968316), (37, 0.0036466155633750573), (38, 0.0023867141976414495), (39, 0.003603627347136099), (40, 0.0017690221386017118), (41, 0.0015488791284089443), (42, 0.0016536870856476503), (43, 0.0014754548201161468), (44, 0.0019099211967429808), (45, 0.002324450724543664), (46, 0.0011308440025714851), (47, 0.0008367640838505689), (48, 0.0016914010708829763), (49, 0.002700019009818836), (50, 0.0014949614815471665), (51, 0.0011173439399533697), (52, 0.0022645863807945125), (53, 0.00013035403000234718), (54, 0.0019369335312888738), (55, 0.0040122086518857005), (56, 0.003705868678559242), (57, 0.000844766332481862), (58, 0.0006768873707734902), (59, 0.0014376610928270891), (60, 0.00010715481548034824), (61, 0.0003356266733378742), (62, 0.00015426367373031876), (63, 4.649495889851509e-05), (64, 0.0018470648090447219), (65, 5.742992186477536e-05), (66, 9.535833310104485e-05), (67, 0.00030769806825592134), (68, 9.242695415932199e-05), (69, 0.001397689911467953), (70, 0.00208089769846676), (71, 0.002082416803667394), (72, 1.5640888759207027e-05), (73, 2.8304232124530764e-05), (74, 0.010104151302410977), (75, 0.0021618343568406526), (76, 0.008139373677355469), (77, 0.00022378081216073003), (78, 0.0006983410355547131), (79, 0.0003381223325410252), (80, 7.608689165148718e-06), (81, 0.00015407881715121362), (82, 9.496744442138912e-06), (83, 2.722943133332507e-05), (84, 1.8953045546021592e-06), (85, 4.4333338776904916e-05), (86, 1.2573681247491526e-06), (87, 4.4519149208327414e-05), (88, 7.730019179917412e-07), (89, 1.0098243713468615e-05), (90, 7.978020782432037e-07), (91, 6.956635720998725e-06), (92, 0.0008256238518656118), (93, 8.842974063817663e-06), (94, 3.0301980418017813e-06), (95, 0.15540127596732925), (96, 1.2598099866816043e-05), (97, 0.00955271935767878), (98, 0.0), (99, 0.0), (100, 0.0), (101, 0.0), (102, 0.0), (103, 0.0), (104, 0.0), (105, 0.0), (106, 0.0), (107, 0.0), (108, 0.0), (109, 0.0), (110, 0.0), (111, 0.0), (112, 0.0), (113, 0.0), (114, 0.0), (115, 0.0), (116, 0.0), (117, 0.0), (118, 0.0), (119, 0.0), (120, 0.0), (121, 0.0), (122, 0.0), (123, 0.0), (124, 0.0), (125, 0.0), (126, 0.0), (127, 0.0)])\n"
     ]
    }
   ],
   "source": [
    "print(norm_curated)"
   ]
  },
  {
   "cell_type": "code",
   "execution_count": 22,
   "metadata": {},
   "outputs": [],
   "source": [
    "import pickle\n",
    "\n",
    "with open('char_norm.pkl', 'wb') as filehandler:\n",
    "    pickle.dump(norm_curated, filehandler)"
   ]
  },
  {
   "cell_type": "code",
   "execution_count": null,
   "metadata": {},
   "outputs": [],
   "source": []
  }
 ],
 "metadata": {
  "kernelspec": {
   "display_name": "base",
   "language": "python",
   "name": "python3"
  },
  "language_info": {
   "codemirror_mode": {
    "name": "ipython",
    "version": 3
   },
   "file_extension": ".py",
   "mimetype": "text/x-python",
   "name": "python",
   "nbconvert_exporter": "python",
   "pygments_lexer": "ipython3",
   "version": "3.11.5"
  }
 },
 "nbformat": 4,
 "nbformat_minor": 2
}
